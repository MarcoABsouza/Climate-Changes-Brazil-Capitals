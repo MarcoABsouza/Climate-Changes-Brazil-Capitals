{
 "cells": [
  {
   "cell_type": "markdown",
   "metadata": {},
   "source": [
    "Bibliotecas"
   ]
  },
  {
   "cell_type": "code",
   "execution_count": 1,
   "metadata": {},
   "outputs": [],
   "source": [
    "import pandas as pd\n",
    "import os\n",
    "import datetime"
   ]
  },
  {
   "cell_type": "markdown",
   "metadata": {},
   "source": [
    "Variaveis Globais"
   ]
  },
  {
   "cell_type": "code",
   "execution_count": 2,
   "metadata": {},
   "outputs": [],
   "source": [
    "# Diretório contendo os arquivos\n",
    "input_directory = 'DadosClimaticos/'\n",
    "# Lista para armazenar os DataFrames de cada cidade\n",
    "all_data = []"
   ]
  },
  {
   "cell_type": "markdown",
   "metadata": {},
   "source": [
    "Processamento dos datasets "
   ]
  },
  {
   "cell_type": "code",
   "execution_count": 3,
   "metadata": {},
   "outputs": [],
   "source": [
    "# Função para processar cada arquivo\n",
    "def process_city_files(file_path):\n",
    "\n",
    "    # Lê o nome da cidade na primeira linha\n",
    "    with open(file_path, 'r', encoding='utf-8') as f:\n",
    "        city_name = f.readline().split(':',1)[1].strip() # Extract city name\n",
    "        \n",
    "        \n",
    "    # Lê os dados a partir da linha 10\n",
    "    data = pd.read_csv(\n",
    "        file_path,\n",
    "        sep=\";\",\n",
    "        skiprows=9,\n",
    "        encoding=\"utf-8\"\n",
    "    )    \n",
    "\n",
    "    # Renomeia as colunas\n",
    "    data.columns = [\n",
    "        \"Data Medida\",\n",
    "        \"Precipitacao Total (mm)\",\n",
    "        \"Temperatura Maxima (°C)\",\n",
    "        \"Temperatura Media (°C)\",\n",
    "        \"Temperatura Minima (°C)\",\n",
    "        \"Umidade Relativa Media (%)\",\n",
    "        \"Umidade Relativa Minima (%)\",\n",
    "        \"Velocidade dos Ventos Media (m/s)\",\n",
    "        \" \"\n",
    "    ]   \n",
    "    # Remove colunas desnecessárias\n",
    "    data.drop(columns=[' '], inplace=True)\n",
    "\n",
    "    # Adiciona o nome da cidade\n",
    "    data[\"Cidade\"] = city_name\n",
    "\n",
    "    # Retorna o nome da cidade\n",
    "    return data\n"
   ]
  },
  {
   "cell_type": "code",
   "execution_count": 4,
   "metadata": {},
   "outputs": [],
   "source": [
    "def process_files(input_directory):\n",
    "    # Processa todos os arquivos no diretório\n",
    "    for filename in os.listdir(input_directory):\n",
    "        \n",
    "        if filename.endswith('.csv'): # processa arquivos .csv \n",
    "            file_path = os.path.join(input_directory, filename)\n",
    "\n",
    "            # Processa o arquivo da cidade\n",
    "            data = process_city_files(file_path)\n",
    "            \n",
    "            # Adiciona os dados na lista\n",
    "            all_data.append(data)\n",
    "            \n",
    "    return all_data"
   ]
  },
  {
   "cell_type": "markdown",
   "metadata": {},
   "source": [
    "Tratamento dos Dados"
   ]
  },
  {
   "cell_type": "code",
   "execution_count": 5,
   "metadata": {},
   "outputs": [],
   "source": [
    "# Dados dos Datasets\n",
    "all_data = process_files(input_directory)\n",
    "\n",
    "# Concatena todos os dados\n",
    "data = pd.concat(all_data, ignore_index=True)\n",
    "\n",
    "# Modifica o tipo da date para datetime\n",
    "data['Data Medida'] = pd.to_datetime(data['Data Medida'], format='%Y-%m-%d')"
   ]
  },
  {
   "cell_type": "code",
   "execution_count": 6,
   "metadata": {},
   "outputs": [],
   "source": [
    "# Dropa a ultima linha\n",
    "data = data.drop(data.index[-1])"
   ]
  },
  {
   "cell_type": "markdown",
   "metadata": {},
   "source": [
    "EDA - Análise Exploratória dos Dados"
   ]
  },
  {
   "cell_type": "code",
   "execution_count": 7,
   "metadata": {},
   "outputs": [
    {
     "data": {
      "text/html": [
       "<div>\n",
       "<style scoped>\n",
       "    .dataframe tbody tr th:only-of-type {\n",
       "        vertical-align: middle;\n",
       "    }\n",
       "\n",
       "    .dataframe tbody tr th {\n",
       "        vertical-align: top;\n",
       "    }\n",
       "\n",
       "    .dataframe thead th {\n",
       "        text-align: right;\n",
       "    }\n",
       "</style>\n",
       "<table border=\"1\" class=\"dataframe\">\n",
       "  <thead>\n",
       "    <tr style=\"text-align: right;\">\n",
       "      <th></th>\n",
       "      <th>Data Medida</th>\n",
       "      <th>Precipitacao Total (mm)</th>\n",
       "      <th>Temperatura Maxima (°C)</th>\n",
       "      <th>Temperatura Media (°C)</th>\n",
       "      <th>Temperatura Minima (°C)</th>\n",
       "      <th>Umidade Relativa Media (%)</th>\n",
       "      <th>Umidade Relativa Minima (%)</th>\n",
       "      <th>Velocidade dos Ventos Media (m/s)</th>\n",
       "    </tr>\n",
       "  </thead>\n",
       "  <tbody>\n",
       "    <tr>\n",
       "      <th>count</th>\n",
       "      <td>27880</td>\n",
       "      <td>25676.000000</td>\n",
       "      <td>24066.000000</td>\n",
       "      <td>22335.000000</td>\n",
       "      <td>25457.000000</td>\n",
       "      <td>20889.000000</td>\n",
       "      <td>20815.000000</td>\n",
       "      <td>20298.000000</td>\n",
       "    </tr>\n",
       "    <tr>\n",
       "      <th>mean</th>\n",
       "      <td>2021-11-26 16:17:31.592539648</td>\n",
       "      <td>5.397542</td>\n",
       "      <td>31.250191</td>\n",
       "      <td>25.730486</td>\n",
       "      <td>21.894355</td>\n",
       "      <td>73.912399</td>\n",
       "      <td>62.781648</td>\n",
       "      <td>1.493861</td>\n",
       "    </tr>\n",
       "    <tr>\n",
       "      <th>min</th>\n",
       "      <td>2020-01-01 00:00:00</td>\n",
       "      <td>0.000000</td>\n",
       "      <td>8.500000</td>\n",
       "      <td>5.000000</td>\n",
       "      <td>-0.100000</td>\n",
       "      <td>6.000000</td>\n",
       "      <td>10.000000</td>\n",
       "      <td>0.000000</td>\n",
       "    </tr>\n",
       "    <tr>\n",
       "      <th>25%</th>\n",
       "      <td>2020-11-13 00:00:00</td>\n",
       "      <td>0.000000</td>\n",
       "      <td>29.300000</td>\n",
       "      <td>24.300000</td>\n",
       "      <td>20.200000</td>\n",
       "      <td>66.800000</td>\n",
       "      <td>51.000000</td>\n",
       "      <td>0.800000</td>\n",
       "    </tr>\n",
       "    <tr>\n",
       "      <th>50%</th>\n",
       "      <td>2021-11-10 00:00:00</td>\n",
       "      <td>0.000000</td>\n",
       "      <td>31.700000</td>\n",
       "      <td>26.700000</td>\n",
       "      <td>23.000000</td>\n",
       "      <td>76.300000</td>\n",
       "      <td>65.000000</td>\n",
       "      <td>1.300000</td>\n",
       "    </tr>\n",
       "    <tr>\n",
       "      <th>75%</th>\n",
       "      <td>2022-12-02 00:00:00</td>\n",
       "      <td>4.000000</td>\n",
       "      <td>33.700000</td>\n",
       "      <td>28.000000</td>\n",
       "      <td>24.400000</td>\n",
       "      <td>84.000000</td>\n",
       "      <td>76.000000</td>\n",
       "      <td>2.000000</td>\n",
       "    </tr>\n",
       "    <tr>\n",
       "      <th>max</th>\n",
       "      <td>2024-01-01 00:00:00</td>\n",
       "      <td>225.100000</td>\n",
       "      <td>44.200000</td>\n",
       "      <td>36.200000</td>\n",
       "      <td>30.200000</td>\n",
       "      <td>100.000000</td>\n",
       "      <td>100.000000</td>\n",
       "      <td>8.900000</td>\n",
       "    </tr>\n",
       "    <tr>\n",
       "      <th>std</th>\n",
       "      <td>NaN</td>\n",
       "      <td>13.146645</td>\n",
       "      <td>3.964993</td>\n",
       "      <td>3.549616</td>\n",
       "      <td>3.710638</td>\n",
       "      <td>14.278950</td>\n",
       "      <td>18.002811</td>\n",
       "      <td>1.056723</td>\n",
       "    </tr>\n",
       "  </tbody>\n",
       "</table>\n",
       "</div>"
      ],
      "text/plain": [
       "                         Data Medida  Precipitacao Total (mm)  \\\n",
       "count                          27880             25676.000000   \n",
       "mean   2021-11-26 16:17:31.592539648                 5.397542   \n",
       "min              2020-01-01 00:00:00                 0.000000   \n",
       "25%              2020-11-13 00:00:00                 0.000000   \n",
       "50%              2021-11-10 00:00:00                 0.000000   \n",
       "75%              2022-12-02 00:00:00                 4.000000   \n",
       "max              2024-01-01 00:00:00               225.100000   \n",
       "std                              NaN                13.146645   \n",
       "\n",
       "       Temperatura Maxima (°C)  Temperatura Media (°C)  \\\n",
       "count             24066.000000            22335.000000   \n",
       "mean                 31.250191               25.730486   \n",
       "min                   8.500000                5.000000   \n",
       "25%                  29.300000               24.300000   \n",
       "50%                  31.700000               26.700000   \n",
       "75%                  33.700000               28.000000   \n",
       "max                  44.200000               36.200000   \n",
       "std                   3.964993                3.549616   \n",
       "\n",
       "       Temperatura Minima (°C)  Umidade Relativa Media (%)  \\\n",
       "count             25457.000000                20889.000000   \n",
       "mean                 21.894355                   73.912399   \n",
       "min                  -0.100000                    6.000000   \n",
       "25%                  20.200000                   66.800000   \n",
       "50%                  23.000000                   76.300000   \n",
       "75%                  24.400000                   84.000000   \n",
       "max                  30.200000                  100.000000   \n",
       "std                   3.710638                   14.278950   \n",
       "\n",
       "       Umidade Relativa Minima (%)  Velocidade dos Ventos Media (m/s)  \n",
       "count                 20815.000000                       20298.000000  \n",
       "mean                     62.781648                           1.493861  \n",
       "min                      10.000000                           0.000000  \n",
       "25%                      51.000000                           0.800000  \n",
       "50%                      65.000000                           1.300000  \n",
       "75%                      76.000000                           2.000000  \n",
       "max                     100.000000                           8.900000  \n",
       "std                      18.002811                           1.056723  "
      ]
     },
     "execution_count": 7,
     "metadata": {},
     "output_type": "execute_result"
    }
   ],
   "source": [
    "summary = data.describe()\n",
    "summary"
   ]
  },
  {
   "cell_type": "code",
   "execution_count": 8,
   "metadata": {},
   "outputs": [
    {
     "data": {
      "text/plain": [
       "(27880, 9)"
      ]
     },
     "execution_count": 8,
     "metadata": {},
     "output_type": "execute_result"
    }
   ],
   "source": [
    "data.shape"
   ]
  },
  {
   "cell_type": "code",
   "execution_count": 9,
   "metadata": {},
   "outputs": [
    {
     "name": "stdout",
     "output_type": "stream",
     "text": [
      "<class 'pandas.core.frame.DataFrame'>\n",
      "RangeIndex: 27880 entries, 0 to 27879\n",
      "Data columns (total 9 columns):\n",
      " #   Column                             Non-Null Count  Dtype         \n",
      "---  ------                             --------------  -----         \n",
      " 0   Data Medida                        27880 non-null  datetime64[ns]\n",
      " 1   Precipitacao Total (mm)            25676 non-null  float64       \n",
      " 2   Temperatura Maxima (°C)            24066 non-null  float64       \n",
      " 3   Temperatura Media (°C)             22335 non-null  float64       \n",
      " 4   Temperatura Minima (°C)            25457 non-null  float64       \n",
      " 5   Umidade Relativa Media (%)         20889 non-null  float64       \n",
      " 6   Umidade Relativa Minima (%)        20815 non-null  float64       \n",
      " 7   Velocidade dos Ventos Media (m/s)  20298 non-null  float64       \n",
      " 8   Cidade                             27880 non-null  object        \n",
      "dtypes: datetime64[ns](1), float64(7), object(1)\n",
      "memory usage: 3.2 MB\n"
     ]
    }
   ],
   "source": [
    "data.info(memory_usage='deep')"
   ]
  },
  {
   "cell_type": "code",
   "execution_count": 10,
   "metadata": {},
   "outputs": [
    {
     "data": {
      "text/plain": [
       "np.int64(0)"
      ]
     },
     "execution_count": 10,
     "metadata": {},
     "output_type": "execute_result"
    }
   ],
   "source": [
    "data.duplicated().sum()"
   ]
  },
  {
   "cell_type": "code",
   "execution_count": 11,
   "metadata": {},
   "outputs": [
    {
     "data": {
      "text/plain": [
       "Data Medida                             0\n",
       "Precipitacao Total (mm)              2204\n",
       "Temperatura Maxima (°C)              3814\n",
       "Temperatura Media (°C)               5545\n",
       "Temperatura Minima (°C)              2423\n",
       "Umidade Relativa Media (%)           6991\n",
       "Umidade Relativa Minima (%)          7065\n",
       "Velocidade dos Ventos Media (m/s)    7582\n",
       "Cidade                                  0\n",
       "dtype: int64"
      ]
     },
     "execution_count": 11,
     "metadata": {},
     "output_type": "execute_result"
    }
   ],
   "source": [
    "data.isna().sum()"
   ]
  },
  {
   "cell_type": "code",
   "execution_count": 12,
   "metadata": {},
   "outputs": [],
   "source": [
    "# Função para preencher valores faltantes\n",
    "def fill_missing_values(data):\n",
    "    fill_methods = {\n",
    "        \"Precipitacao Total (mm)\": \"mean\",  # Preenche com a média\n",
    "        \"Temperatura Maxima (°C)\": \"interpolate\",  # Interpolação linear\n",
    "        \"Temperatura Media (°C)\": \"interpolate\",  # Interpolação linear\n",
    "        \"Temperatura Minima (°C)\": \"median\",  # Preenche com a mediana\n",
    "        \"Umidade Relativa Media (%)\": \"mean\",  # Preenche com a média\n",
    "        \"Umidade Relativa Minima (%)\": \"median\",  # Preenche com a mediana\n",
    "        \"Velocidade dos Ventos Media (m/s)\": \"mean\"  # Preenche com a média\n",
    "    }\n",
    "    \n",
    "    for column, method in fill_methods.items():\n",
    "        if method == \"mean\":\n",
    "            data[column] = data.groupby('Cidade')[column].transform(lambda x: x.fillna(x.mean()))\n",
    "        elif method == \"median\":\n",
    "            data[column] = data.groupby('Cidade')[column].transform(lambda x: x.fillna(x.median()))\n",
    "        elif method == \"interpolate\":\n",
    "            data[column] = data.groupby('Cidade')[column].transform(lambda x: x.interpolate(method='linear'))\n",
    "    \n",
    "\n",
    "    # Preencher faltantes restantes com forward fill ou backward fill\n",
    "    data.ffill(inplace=True)\n",
    "    data.bfill(inplace=True)\n",
    "    return data\n",
    "\n",
    "# Preenche os valores faltantes\n",
    "data = fill_missing_values(data)\n"
   ]
  },
  {
   "cell_type": "code",
   "execution_count": 13,
   "metadata": {},
   "outputs": [
    {
     "data": {
      "text/plain": [
       "Data Medida                          0\n",
       "Precipitacao Total (mm)              0\n",
       "Temperatura Maxima (°C)              0\n",
       "Temperatura Media (°C)               0\n",
       "Temperatura Minima (°C)              0\n",
       "Umidade Relativa Media (%)           0\n",
       "Umidade Relativa Minima (%)          0\n",
       "Velocidade dos Ventos Media (m/s)    0\n",
       "Cidade                               0\n",
       "dtype: int64"
      ]
     },
     "execution_count": 13,
     "metadata": {},
     "output_type": "execute_result"
    }
   ],
   "source": [
    "data.isna().sum()"
   ]
  },
  {
   "cell_type": "code",
   "execution_count": 14,
   "metadata": {},
   "outputs": [
    {
     "data": {
      "text/html": [
       "<div>\n",
       "<style scoped>\n",
       "    .dataframe tbody tr th:only-of-type {\n",
       "        vertical-align: middle;\n",
       "    }\n",
       "\n",
       "    .dataframe tbody tr th {\n",
       "        vertical-align: top;\n",
       "    }\n",
       "\n",
       "    .dataframe thead th {\n",
       "        text-align: right;\n",
       "    }\n",
       "</style>\n",
       "<table border=\"1\" class=\"dataframe\">\n",
       "  <thead>\n",
       "    <tr style=\"text-align: right;\">\n",
       "      <th></th>\n",
       "      <th>Data Medida</th>\n",
       "      <th>Precipitacao Total (mm)</th>\n",
       "      <th>Temperatura Maxima (°C)</th>\n",
       "      <th>Temperatura Media (°C)</th>\n",
       "      <th>Temperatura Minima (°C)</th>\n",
       "      <th>Umidade Relativa Media (%)</th>\n",
       "      <th>Umidade Relativa Minima (%)</th>\n",
       "      <th>Velocidade dos Ventos Media (m/s)</th>\n",
       "    </tr>\n",
       "  </thead>\n",
       "  <tbody>\n",
       "    <tr>\n",
       "      <th>count</th>\n",
       "      <td>27880</td>\n",
       "      <td>27880.000000</td>\n",
       "      <td>27880.000000</td>\n",
       "      <td>27880.000000</td>\n",
       "      <td>27880.000000</td>\n",
       "      <td>27880.000000</td>\n",
       "      <td>27880.000000</td>\n",
       "      <td>27880.000000</td>\n",
       "    </tr>\n",
       "    <tr>\n",
       "      <th>mean</th>\n",
       "      <td>2021-11-26 16:17:31.592539648</td>\n",
       "      <td>5.362502</td>\n",
       "      <td>31.323626</td>\n",
       "      <td>25.745213</td>\n",
       "      <td>22.023447</td>\n",
       "      <td>73.472140</td>\n",
       "      <td>63.315890</td>\n",
       "      <td>1.291087</td>\n",
       "    </tr>\n",
       "    <tr>\n",
       "      <th>min</th>\n",
       "      <td>2020-01-01 00:00:00</td>\n",
       "      <td>0.000000</td>\n",
       "      <td>8.500000</td>\n",
       "      <td>5.000000</td>\n",
       "      <td>-0.100000</td>\n",
       "      <td>6.000000</td>\n",
       "      <td>10.000000</td>\n",
       "      <td>0.000000</td>\n",
       "    </tr>\n",
       "    <tr>\n",
       "      <th>25%</th>\n",
       "      <td>2020-11-13 00:00:00</td>\n",
       "      <td>0.000000</td>\n",
       "      <td>29.500000</td>\n",
       "      <td>24.200000</td>\n",
       "      <td>20.500000</td>\n",
       "      <td>66.500000</td>\n",
       "      <td>53.000000</td>\n",
       "      <td>0.400000</td>\n",
       "    </tr>\n",
       "    <tr>\n",
       "      <th>50%</th>\n",
       "      <td>2021-11-10 00:00:00</td>\n",
       "      <td>0.000000</td>\n",
       "      <td>31.600000</td>\n",
       "      <td>26.400000</td>\n",
       "      <td>23.100000</td>\n",
       "      <td>76.683431</td>\n",
       "      <td>66.000000</td>\n",
       "      <td>1.000000</td>\n",
       "    </tr>\n",
       "    <tr>\n",
       "      <th>75%</th>\n",
       "      <td>2022-12-02 00:00:00</td>\n",
       "      <td>5.035802</td>\n",
       "      <td>33.700000</td>\n",
       "      <td>27.800000</td>\n",
       "      <td>24.500000</td>\n",
       "      <td>84.500000</td>\n",
       "      <td>75.000000</td>\n",
       "      <td>1.800000</td>\n",
       "    </tr>\n",
       "    <tr>\n",
       "      <th>max</th>\n",
       "      <td>2024-01-01 00:00:00</td>\n",
       "      <td>225.100000</td>\n",
       "      <td>44.200000</td>\n",
       "      <td>36.200000</td>\n",
       "      <td>30.200000</td>\n",
       "      <td>100.000000</td>\n",
       "      <td>100.000000</td>\n",
       "      <td>8.900000</td>\n",
       "    </tr>\n",
       "    <tr>\n",
       "      <th>std</th>\n",
       "      <td>NaN</td>\n",
       "      <td>12.620507</td>\n",
       "      <td>3.841610</td>\n",
       "      <td>3.278819</td>\n",
       "      <td>3.625537</td>\n",
       "      <td>14.512750</td>\n",
       "      <td>16.622159</td>\n",
       "      <td>1.110995</td>\n",
       "    </tr>\n",
       "  </tbody>\n",
       "</table>\n",
       "</div>"
      ],
      "text/plain": [
       "                         Data Medida  Precipitacao Total (mm)  \\\n",
       "count                          27880             27880.000000   \n",
       "mean   2021-11-26 16:17:31.592539648                 5.362502   \n",
       "min              2020-01-01 00:00:00                 0.000000   \n",
       "25%              2020-11-13 00:00:00                 0.000000   \n",
       "50%              2021-11-10 00:00:00                 0.000000   \n",
       "75%              2022-12-02 00:00:00                 5.035802   \n",
       "max              2024-01-01 00:00:00               225.100000   \n",
       "std                              NaN                12.620507   \n",
       "\n",
       "       Temperatura Maxima (°C)  Temperatura Media (°C)  \\\n",
       "count             27880.000000            27880.000000   \n",
       "mean                 31.323626               25.745213   \n",
       "min                   8.500000                5.000000   \n",
       "25%                  29.500000               24.200000   \n",
       "50%                  31.600000               26.400000   \n",
       "75%                  33.700000               27.800000   \n",
       "max                  44.200000               36.200000   \n",
       "std                   3.841610                3.278819   \n",
       "\n",
       "       Temperatura Minima (°C)  Umidade Relativa Media (%)  \\\n",
       "count             27880.000000                27880.000000   \n",
       "mean                 22.023447                   73.472140   \n",
       "min                  -0.100000                    6.000000   \n",
       "25%                  20.500000                   66.500000   \n",
       "50%                  23.100000                   76.683431   \n",
       "75%                  24.500000                   84.500000   \n",
       "max                  30.200000                  100.000000   \n",
       "std                   3.625537                   14.512750   \n",
       "\n",
       "       Umidade Relativa Minima (%)  Velocidade dos Ventos Media (m/s)  \n",
       "count                 27880.000000                       27880.000000  \n",
       "mean                     63.315890                           1.291087  \n",
       "min                      10.000000                           0.000000  \n",
       "25%                      53.000000                           0.400000  \n",
       "50%                      66.000000                           1.000000  \n",
       "75%                      75.000000                           1.800000  \n",
       "max                     100.000000                           8.900000  \n",
       "std                      16.622159                           1.110995  "
      ]
     },
     "execution_count": 14,
     "metadata": {},
     "output_type": "execute_result"
    }
   ],
   "source": [
    "data.describe()"
   ]
  },
  {
   "cell_type": "code",
   "execution_count": 15,
   "metadata": {},
   "outputs": [],
   "source": [
    "data = data.loc[data['Data Medida'] != '2024-01-01']"
   ]
  },
  {
   "cell_type": "code",
   "execution_count": 16,
   "metadata": {},
   "outputs": [],
   "source": [
    "data.to_csv('DadosClimaticosTransformados.csv')"
   ]
  }
 ],
 "metadata": {
  "kernelspec": {
   "display_name": ".venv",
   "language": "python",
   "name": "python3"
  },
  "language_info": {
   "codemirror_mode": {
    "name": "ipython",
    "version": 3
   },
   "file_extension": ".py",
   "mimetype": "text/x-python",
   "name": "python",
   "nbconvert_exporter": "python",
   "pygments_lexer": "ipython3",
   "version": "3.13.0"
  }
 },
 "nbformat": 4,
 "nbformat_minor": 2
}
